{
 "cells": [
  {
   "cell_type": "code",
   "execution_count": 1,
   "id": "748ed59f",
   "metadata": {},
   "outputs": [],
   "source": [
    "import os\n",
    "import json"
   ]
  },
  {
   "cell_type": "code",
   "execution_count": 2,
   "id": "e9a2982d",
   "metadata": {},
   "outputs": [],
   "source": [
    "with open('infiles/pfnanoindex.json', 'r') as f:\n",
    "  filelist = json.load(f)"
   ]
  },
  {
   "cell_type": "code",
   "execution_count": 3,
   "id": "995fe03f",
   "metadata": {},
   "outputs": [],
   "source": [
    "for k in filelist[\"2016\"].keys():\n",
    "    if k == 'JetHT2016' or k == 'SingleMu2016':\n",
    "        filelist[\"2016APV\"][k] = filelist[\"2016\"][k]"
   ]
  },
  {
   "cell_type": "code",
   "execution_count": 4,
   "id": "07c43f29",
   "metadata": {},
   "outputs": [
    {
     "name": "stdout",
     "output_type": "stream",
     "text": [
      "QCD 10\n",
      "TTbar 3\n",
      "SingleTop 8\n",
      "WJetsToQQ 3\n",
      "WJetsToLNu 7\n",
      "ZJetsToQQ 3\n",
      "DYJetsToLL 4\n",
      "Diboson 3\n",
      "EWKV 7\n",
      "GluGluHToBB 1\n",
      "VBFHToBB 2\n",
      "WHToBB 4\n",
      "ZHToBB 6\n",
      "ttHToBB 1\n",
      "JetHT2016 8\n",
      "SingleMu2016 8\n",
      "QCD 11\n",
      "TTbar 3\n",
      "SingleTop 8\n",
      "WJetsToQQ 3\n",
      "WJetsToLNu 8\n",
      "ZJetsToQQ 2\n",
      "DYJetsToLL 5\n",
      "Diboson 3\n",
      "EWKV 7\n",
      "GluGluHToBB 1\n",
      "VBFHToBB 2\n",
      "WHToBB 4\n",
      "ZHToBB 6\n",
      "ttHToBB 1\n",
      "JetHT2016 8\n",
      "SingleMu2016 8\n",
      "QCD 10\n",
      "TTbar 4\n",
      "SingleTop 5\n",
      "WJetsToQQ 3\n",
      "WJetsToLNu 8\n",
      "ZJetsToQQ 3\n",
      "DYJetsToLL 5\n",
      "Diboson 3\n",
      "EWKV 6\n",
      "GluGluHToBB 1\n",
      "VBFHToBB 2\n",
      "WHToBB 4\n",
      "ZHToBB 6\n",
      "ttHToBB 1\n",
      "JetHT2017 5\n",
      "SingleMu2017 5\n",
      "QCD 10\n",
      "TTbar 4\n",
      "SingleTop 5\n",
      "WJetsToQQ 3\n",
      "WJetsToLNu 8\n",
      "ZJetsToQQ 3\n",
      "DYJetsToLL 5\n",
      "Diboson 3\n",
      "EWKV 7\n",
      "GluGluHToBB 1\n",
      "VBFHToBB 2\n",
      "WHToBB 4\n",
      "ZHToBB 6\n",
      "ttHToBB 1\n",
      "JetHT2018 4\n",
      "SingleMu2018 4\n"
     ]
    }
   ],
   "source": [
    "mckeys = ['QCD', \n",
    "          'TTbar', 'SingleTop', \n",
    "          'WJetsToQQ', 'WJetsToLNu', \n",
    "          'ZJetsToQQ', 'DYJetsToLL', \n",
    "          'Diboson', 'EWKV',\n",
    "          'GluGluHToBB','VBFHToBB',\n",
    "          'WHToBB','ZHToBB','ttHToBB']\n",
    "\n",
    "names = mckeys + ['JetHTData','SingleMuData']\n",
    "\n",
    "for year in ['2016APV','2016','2017','2018']:\n",
    "\n",
    "    keys = mckeys + ['JetHT'+year[:4], 'SingleMu'+year[:4]]\n",
    "        \n",
    "    for i,k in enumerate(keys):\n",
    "        print(k,len(filelist[year][k]))\n",
    "\n",
    "        outfilename = 'infiles/'+year+'_'+names[i]+'.json'\n",
    "        \n",
    "        filelist_redirector = {}\n",
    "        for dataset, files in filelist[year][k].items():\n",
    "\n",
    "            if k == 'JetHT2016' or k == 'SingleMu2016':\n",
    "                if 'HIPM' in dataset and year == \"2016APV\":\n",
    "                    filelist_redirector[dataset] = [\"root://cmsxrootd.fnal.gov/\" + f for f in files]\n",
    "                if 'HIPM' not in dataset and year == \"2016\":\n",
    "                    filelist_redirector[dataset] = [\"root://cmsxrootd.fnal.gov/\" + f for f in files]\n",
    "            else:\n",
    "                filelist_redirector[dataset] = [\"root://cmsxrootd.fnal.gov/\" + f for f in files] \n",
    "           \n",
    "        with open(outfilename, 'w') as outfile:\n",
    "            json.dump(filelist_redirector, outfile)"
   ]
  },
  {
   "cell_type": "code",
   "execution_count": null,
   "id": "cc32f6cc",
   "metadata": {},
   "outputs": [],
   "source": []
  }
 ],
 "metadata": {
  "kernelspec": {
   "display_name": "Python 3 (ipykernel)",
   "language": "python",
   "name": "python3"
  },
  "language_info": {
   "codemirror_mode": {
    "name": "ipython",
    "version": 3
   },
   "file_extension": ".py",
   "mimetype": "text/x-python",
   "name": "python",
   "nbconvert_exporter": "python",
   "pygments_lexer": "ipython3",
   "version": "3.8.13"
  }
 },
 "nbformat": 4,
 "nbformat_minor": 5
}
