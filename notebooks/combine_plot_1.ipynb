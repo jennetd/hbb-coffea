{
 "cells": [
  {
   "cell_type": "code",
   "execution_count": 2,
   "metadata": {},
   "outputs": [],
   "source": [
    "import os, subprocess\n",
    "import json\n",
    "import uproot\n",
    "import awkward as ak\n",
    "import numpy as np\n",
    "from coffea import processor, util, hist\n",
    "import pickle\n",
    "import pandas as pd\n",
    "\n",
    "#Plot settings\n",
    "%matplotlib inline\n",
    "import matplotlib.pyplot as plt\n",
    "import mplhep as hep\n",
    "plt.style.use(hep.style.CMS)\n",
    "\n",
    "import matplotlib.pylab as pylab\n",
    "params = {'legend.fontsize': 'medium',\n",
    "         'axes.labelsize': 'x-large',\n",
    "         'axes.titlesize':'x-large',\n",
    "         'xtick.labelsize':'medium',\n",
    "         'ytick.labelsize':'medium'}\n",
    "pylab.rcParams.update(params)\n",
    "\n",
    "#line thickness\n",
    "import matplotlib as mpl\n",
    "#mpl.rcParams['lines.linewidth'] = 5\n",
    "\n",
    "#Set color scheme\n",
    "global color_dict \n",
    "color_dict = {}\n",
    "color_dict['QCD'] = 'black'\n",
    "color_dict['Wjets'] = 'gray'\n",
    "color_dict['Zjets'] = 'deepskyblue'\n",
    "color_dict['Zjetsbb'] = 'blue'\n",
    "color_dict['ttbar'] = 'purple'\n",
    "color_dict['singlet'] = 'hotpink'\n",
    "color_dict['VV'] = 'darkorange'\n",
    "\n",
    "color_dict['ttH'] = 'purple'\n",
    "color_dict['WH'] = 'blue'\n",
    "color_dict['ZH'] = 'gold'\n",
    "color_dict['VBF'] = 'green'\n",
    "color_dict['ggF'] = 'red'\n",
    "\n",
    "#Dataset parameters\n",
    "lumis = {}\n",
    "lumis['2016'] = 35.9\n",
    "lumis['2017'] = 41.5\n",
    "lumis['2018'] = 59.9\n",
    "\n",
    "\n",
    "systematics = ['nominal',\n",
    "               'jet_triggerUp','jet_triggerDown',\n",
    "               'btagWeightUp','btagWeightDown','btagEffStatUp','btagEffStatDown',\n",
    "               'UESUp','UESDown','JESUp','JESDown','JERUp','JERDown',\n",
    "              ]\n",
    "\n",
    "mc = ['QCD','Wjets','Zjets','ttbar','singlet','VV','ggF','VBF','ZH','WH']\n",
    "\n",
    "\n",
    "#To calculate significance\n",
    "def significance(s,b):\n",
    "    if b==0:\n",
    "        return 0\n",
    "    z_squared = 2.0*(s+b)*np.log(1.0+1.0*s/b) - 2.0*s\n",
    "    return np.sqrt(z_squared)"
   ]
  },
  {
   "cell_type": "code",
   "execution_count": null,
   "metadata": {},
   "outputs": [],
   "source": [
    "def get_data(file_path):\n",
    "    \n",
    "    process_list = ['QCD',\n",
    "                    'Wjets',\n",
    "                    'Wjetsbb',\n",
    "                    'Zjets',\n",
    "                    'Zjetsbb',\n",
    "                    'ttbar',\n",
    "                    'singlet',\n",
    "                    'VV',\n",
    "                    'ggF',\n",
    "                    'VBF',\n",
    "                    'ZH',\n",
    "                    'WH',\n",
    "                    'ttH']\n",
    "    \n",
    "    "
   ]
  },
  {
   "cell_type": "code",
   "execution_count": 3,
   "metadata": {
    "scrolled": true
   },
   "outputs": [
    {
     "name": "stdout",
     "output_type": "stream",
     "text": [
      "1mv-signalregion.root\t1mvl-signalregion.root\r\n",
      "1mvc-signalregion.root\ttemplates.pkl\r\n"
     ]
    }
   ],
   "source": [
    "!ls ../2017"
   ]
  },
  {
   "cell_type": "code",
   "execution_count": 6,
   "metadata": {},
   "outputs": [],
   "source": [
    "a = uproot.open(\"../2017/1mv-signalregion.root\")"
   ]
  },
  {
   "cell_type": "code",
   "execution_count": 19,
   "metadata": {},
   "outputs": [
    {
     "data": {
      "text/plain": [
       "<TH1D (version 3) at 0x7f9e028f6f10>"
      ]
     },
     "execution_count": 19,
     "metadata": {},
     "output_type": "execute_result"
    }
   ],
   "source": [
    "a['pass_mv1_ZH_nominal']"
   ]
  },
  {
   "cell_type": "code",
   "execution_count": 8,
   "metadata": {},
   "outputs": [
    {
     "data": {
      "text/plain": [
       "<b'TH1D' b'pass_mv1_data_nominal' 0x7fee387ac860>"
      ]
     },
     "execution_count": 8,
     "metadata": {},
     "output_type": "execute_result"
    }
   ],
   "source": [
    "a['pass_mv1_data_nominal']"
   ]
  },
  {
   "cell_type": "code",
   "execution_count": null,
   "metadata": {},
   "outputs": [],
   "source": [
    "def plot_mconly_inc(h, name, title, log=True):\n",
    "    fig = plt.figure()\n",
    "    plt.suptitle(title)\n",
    "\n",
    "    ax = fig.add_subplot(111)\n",
    "\n",
    "    # https://matplotlib.org/stable/gallery/color/named_colors.html                                                                     \n",
    "    labels = ['VV','single t','tt','W+jets','Z+jets','QCD']\n",
    "    mc = ['QCD','Wjets','Zjets','ttbar','singlet','VV']\n",
    "    colors=['gray','deepskyblue','blue','purple','hotpink','darkorange']\n",
    "\n",
    "    if log:\n",
    "        mc = [x for x in reversed(mc)]\n",
    "        colors = [x for x in reversed(colors)]\n",
    "        labels = [x for x in reversed(labels)]\n",
    "\n",
    "    # Plot stacked hist                                                                                                                \n",
    "    hist.plot1d(h,order=mc,stack=True,fill_opts={'color':colors,'edgecolor':'black'})\n",
    "\n",
    "    sig = h.integrate('process',['ggF','VBF','WH','ZH','ttH'])\n",
    "    hist.plot1d(sig,stack=False,line_opts={'color':'green'})\n",
    "    labels = labels + ['Higgs']\n",
    "    plt.legend(labels,bbox_to_anchor=(1.05, 1), loc='upper left')\n",
    "    ax.set_ylim(0,1000000)\n",
    "\n",
    "    if log:\n",
    "        ax.set_yscale('log')\n",
    "        ax.set_ylim(0.1,10000000)\n",
    "\n",
    "    # save as name                                                                                                                  \n",
    "    #png_name = name+'.png'\n",
    "    #plt.savefig(png_name,bbox_inches='tight')\n",
    "\n",
    "    #pdf_name = name+'.pdf'\n",
    "    #plt.savefig(pdf_name,bbox_inches='tight')"
   ]
  }
 ],
 "metadata": {
  "kernelspec": {
   "display_name": "Python 3 (ipykernel)",
   "language": "python",
   "name": "python3"
  },
  "language_info": {
   "codemirror_mode": {
    "name": "ipython",
    "version": 3
   },
   "file_extension": ".py",
   "mimetype": "text/x-python",
   "name": "python",
   "nbconvert_exporter": "python",
   "pygments_lexer": "ipython3",
   "version": "3.7.12"
  }
 },
 "nbformat": 4,
 "nbformat_minor": 2
}
